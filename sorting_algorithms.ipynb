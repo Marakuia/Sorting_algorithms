{
  "cells": [
    {
      "cell_type": "markdown",
      "id": "09ab80ae",
      "metadata": {
        "id": "09ab80ae"
      },
      "source": [
        "\n",
        "Генератор случайных матриц(многомерных), который принимает опциональные параметры ​m, n, min_limit, max_limit, где ​m и n​ указывают размер матрицы, а ​min_lim и​ max_lim - минимальное и максимальное значение для генерируемого числа"
      ]
    },
    {
      "cell_type": "code",
      "execution_count": null,
      "id": "48b3dee4",
      "metadata": {
        "id": "48b3dee4",
        "outputId": "56a8fda0-e66b-43ed-876e-467c42d97e40"
      },
      "outputs": [
        {
          "name": "stdout",
          "output_type": "stream",
          "text": [
            "1000\n",
            "1000\n",
            "-250\n",
            "250\n",
            "\n"
          ]
        }
      ],
      "source": [
        "import numpy as np\n",
        "import random\n",
        "import time\n",
        "import copy\n",
        "import math\n",
        "\n",
        "#Ввод значений\n",
        "m = input()\n",
        "n = input()\n",
        "min_limit = input()\n",
        "max_limit = input()\n",
        "print()\n",
        "\n",
        "#Проверка на число\n",
        "def is_num(str):\n",
        "    try:\n",
        "        int(str)\n",
        "        return True\n",
        "    except ValueError:\n",
        "        return False\n",
        "\n",
        "#установка значений по умолчанию, если введеные данные не соответствуют требованиям\n",
        "m_defoult = is_num(m)\n",
        "n_defoult = is_num(n)\n",
        "min_defoult = is_num(min_limit)\n",
        "max_defoult = is_num(max_limit)\n",
        "if (m_defoult == False or m == '0'):\n",
        "    m = 50\n",
        "if (n_defoult == False or n == '0'):\n",
        "    n = 50\n",
        "if (min_defoult == False):\n",
        "    min_limit = -250\n",
        "if (max_defoult == False):\n",
        "    max_limit = 1000\n",
        "if(min_limit>max_limit):\n",
        "    min_limit,max_limit = max_limit,min_limit\n",
        "\n",
        "\n",
        "rand_array = []\n",
        "for i in range(int(m)):\n",
        "    rand_arr1 = []\n",
        "    for j in range(int(n)):\n",
        "        rand_arr1.append(random.randint(int(min_limit),int(max_limit)))\n",
        "    rand_array.append(rand_arr1)\n",
        "\n"
      ]
    },
    {
      "cell_type": "markdown",
      "id": "174a2c22",
      "metadata": {
        "id": "174a2c22"
      },
      "source": [
        "Методы сортировки строк числовой матрицы. Оценка время работы каждого алгоритма сортировки и сравнить его со временем стандартной функции сортировки. Испытания проводятчя на сгенерированных матрицах."
      ]
    },
    {
      "cell_type": "markdown",
      "id": "c3d5db23",
      "metadata": {
        "id": "c3d5db23"
      },
      "source": [
        "### Сортировка выбором\n",
        "Сложность O(n^2)"
      ]
    },
    {
      "cell_type": "code",
      "execution_count": null,
      "id": "a2ab43c3",
      "metadata": {
        "id": "a2ab43c3"
      },
      "outputs": [],
      "source": [
        "#выбором\n",
        "start_time = time.time()\n",
        "def sel_sort(array):\n",
        "    for i in range(int(m)):\n",
        "        j=0\n",
        "        while j<(int(n)-1):\n",
        "            r = j\n",
        "            k = j+1\n",
        "            while k<int(n):\n",
        "                if (array[i][k]<array[i][r]):\n",
        "                    r=k\n",
        "                k+=1\n",
        "            array[i][j],array[i][r] = array[i][r],array[i][j]\n",
        "            j+=1\n",
        "\n",
        "    return array\n",
        "\n",
        "sel_time = time.time() - start_time\n",
        "\n",
        ""
      ]
    },
    {
      "cell_type": "markdown",
      "id": "4c8a3e5c",
      "metadata": {
        "id": "4c8a3e5c"
      },
      "source": [
        "### Сортировка вставками\n",
        "Сложность O(n^2)"
      ]
    },
    {
      "cell_type": "code",
      "execution_count": null,
      "id": "f3bbadb0",
      "metadata": {
        "id": "f3bbadb0"
      },
      "outputs": [],
      "source": [
        "#вставкой\n",
        "start_time = time.time()\n",
        "def ins_sort(array):\n",
        "    for i in range(int(m)):\n",
        "        for j in range(1, int(n)):\n",
        "            k = array[i][j]\n",
        "            r = j-1\n",
        "            while r >=0 and k < array[i][r]:\n",
        "                array[i][r+1] = array[i][r]\n",
        "                r -= 1\n",
        "            array[i][r+1] = k\n",
        "    return array\n",
        "\n",
        "ins_time = time.time() - start_time\n"
      ]
    },
    {
      "cell_type": "markdown",
      "id": "9647140a",
      "metadata": {
        "id": "9647140a"
      },
      "source": [
        "### Сортировка обменом (пузырьком)\n",
        "Сложность O(n^2)"
      ]
    },
    {
      "cell_type": "code",
      "execution_count": null,
      "id": "87d57019",
      "metadata": {
        "id": "87d57019"
      },
      "outputs": [],
      "source": [
        "#обменом/пузырьком\n",
        "start_time = time.time()\n",
        "def swap(array):\n",
        "    for k in range(int(m)):\n",
        "        swapped = False\n",
        "        for i in range(int(n)-1,0,-1):\n",
        "            for j in range(i):\n",
        "                if array[k][j]>array[k][j+1]:\n",
        "                    array[k][j], array[k][j+1] = array[k][j+1], array[k][j]\n",
        "                    swapped= True\n",
        "            if swapped:\n",
        "                swapped=False\n",
        "            else:\n",
        "                break\n",
        "    return array\n",
        "swap_time = time.time() - start_time\n"
      ]
    },
    {
      "cell_type": "markdown",
      "id": "9601d7f4",
      "metadata": {
        "id": "9601d7f4"
      },
      "source": [
        "### Сортировка Шелла\n",
        "Сложность зависит от длины интервала<br>\n",
        "В лучшем случае O(n log^2 n)<br>\n",
        "В худшем - O(n^2)"
      ]
    },
    {
      "cell_type": "code",
      "execution_count": null,
      "id": "82b7e267",
      "metadata": {
        "id": "82b7e267"
      },
      "outputs": [],
      "source": [
        "#Шелла\n",
        "start_time = time.time()\n",
        "def shell(array):\n",
        "    gap = int(n) // 2\n",
        "\n",
        "    for i in range(int(m)):\n",
        "        while gap > 0:\n",
        "            for value in range(gap, int(n)):\n",
        "                current_value = array[i][value]\n",
        "                position = value\n",
        "\n",
        "                while position >= gap and array[i][position - gap] > current_value:\n",
        "                    array[i][position] = array[i][position - gap]\n",
        "                    position -= gap\n",
        "                    array[i][position] = current_value\n",
        "            gap //= 2\n",
        "    return array\n",
        "shell_time = time.time() - start_time\n"
      ]
    },
    {
      "cell_type": "markdown",
      "id": "300ce9df",
      "metadata": {
        "id": "300ce9df"
      },
      "source": [
        "### Турнирная сортировка\n",
        "Сложность O(n log^2 n)"
      ]
    },
    {
      "cell_type": "code",
      "execution_count": null,
      "id": "25239295",
      "metadata": {
        "id": "25239295"
      },
      "outputs": [],
      "source": [
        "#турнирная\n",
        "start_time = time.time()\n",
        "def tourn(array):\n",
        "    while len(array) > 1:\n",
        "        win = []\n",
        "        if len(array) % 2 != 0:\n",
        "            array.append(max(array)+1)\n",
        "        for i in range(0, len(array), 2):\n",
        "            if array[i] > array[i+1]:\n",
        "                win.append(array[i+1])\n",
        "            else:\n",
        "                win.append(array[i])\n",
        "        array = win\n",
        "    return array\n",
        "\n",
        "def tourn_sort(array):\n",
        "    res = []\n",
        "    while (len(array) > 0):\n",
        "        win = tourn(copy.deepcopy(array))[0]\n",
        "        array.remove(win)\n",
        "        res.append(win)\n",
        "    return res\n",
        "\n",
        "for i in range(int(m)):\n",
        "    rand_array[i] = tourn_sort(rand_array[i])\n",
        "\n",
        "tourn_time = time.time() - start_time\n"
      ]
    },
    {
      "cell_type": "markdown",
      "id": "52e94c99",
      "metadata": {
        "id": "52e94c99"
      },
      "source": [
        "### Пирамидальная сортировка\n",
        "Сложность O(n log n)"
      ]
    },
    {
      "cell_type": "code",
      "execution_count": null,
      "id": "8926f7e9",
      "metadata": {
        "id": "8926f7e9"
      },
      "outputs": [],
      "source": [
        "#пирамидальная\n",
        "start_time = time.time()\n",
        "def heap(array, n, i,j):\n",
        "    larg = i\n",
        "    l = 2 * i + 1\n",
        "    r = 2 * i + 2\n",
        "\n",
        "    if l < n and array[j][i] < array[j][l]:\n",
        "        larg = l\n",
        "    if r < n and array[j][larg] < array[j][r]:\n",
        "        larg = r\n",
        "\n",
        "    if larg != i:\n",
        "        array[j][i], array[j][larg] = array[j][larg], array[j][i]\n",
        "        heap(array, n, larg,j)\n",
        "\n",
        "def heap_sort(array):\n",
        "    n = len(array)\n",
        "    for j in range(int(m)):\n",
        "        for i in range(n//2, -1, -1):\n",
        "            heap(array, n, i,j)\n",
        "        for i in range(len(array)-1, 0, -1):\n",
        "            array[j][i], array[j][0] = array[j][0], array[j][i]\n",
        "            heap(array, i, 0,j)\n",
        "    return array\n",
        "\n",
        "heap_time = time.time() - start_time\n"
      ]
    },
    {
      "cell_type": "markdown",
      "id": "bfd68fe1",
      "metadata": {
        "id": "bfd68fe1"
      },
      "source": [
        "### Быстрая сортировка\n",
        "Сложность:<br>\n",
        "в лучшем случае O(n log n)<br>\n",
        "в худшем O(n^2)"
      ]
    },
    {
      "cell_type": "code",
      "execution_count": null,
      "id": "01524e6a",
      "metadata": {
        "id": "01524e6a"
      },
      "outputs": [],
      "source": [
        "#быстрая\n",
        "start_time = time.time()\n",
        "def quick(array):\n",
        "    if len(array) > 1:\n",
        "        pivot = random.choice(array)\n",
        "        less = []\n",
        "        greater = []\n",
        "        equal = []\n",
        "        for n in array:\n",
        "            if n > pivot:\n",
        "                greater.append(n)\n",
        "            if n < pivot:\n",
        "                less.append(n)\n",
        "            if n == pivot:\n",
        "                equal.append(n)\n",
        "        return quick(less) + equal + quick(greater)\n",
        "    else:\n",
        "        return array\n",
        "\n",
        "for i in range(int(m)):\n",
        "    rand_array[i] = quick(rand_array[i])\n",
        "quick_time = time.time() - start_time\n"
      ]
    },
    {
      "cell_type": "markdown",
      "id": "45760c1c",
      "metadata": {
        "id": "45760c1c"
      },
      "source": [
        "### Встроенная сортировка python"
      ]
    },
    {
      "cell_type": "code",
      "execution_count": null,
      "id": "673dd591",
      "metadata": {
        "id": "673dd591"
      },
      "outputs": [],
      "source": [
        "start_time = time.time()\n",
        "def defoult_sort(array):\n",
        "    array.sort()\n",
        "    return array\n",
        "\n",
        "for i in range(len(rand_array)):\n",
        "    rand_array[i] = defoult_sort(rand_array[i])\n",
        "\n",
        "def_time = time.time() - start_time\n"
      ]
    },
    {
      "cell_type": "markdown",
      "id": "410105fb",
      "metadata": {
        "id": "410105fb"
      },
      "source": [
        "### Оценка времени выполнения сортировок\n",
        "Оценка времени происходит на массиве [1000, 1000]"
      ]
    },
    {
      "cell_type": "code",
      "execution_count": null,
      "id": "85288a1b",
      "metadata": {
        "id": "85288a1b",
        "outputId": "5c6cdd11-818f-4e19-f8c4-7bc7ba0b9084"
      },
      "outputs": [
        {
          "name": "stdout",
          "output_type": "stream",
          "text": [
            "Сортировка выбором:  0.00022  секунд\n",
            "Сортировка вставками:  0.00016  секунд\n",
            "Сортировка обменом:  0.00026  секунд\n",
            "Сортировка Шелла:  0.00032  секунд\n",
            "Турнирная сортировка:  243.38467  секунд\n",
            "Пирамидальная сортировка:  0.00028  секунд\n",
            "Быстрая сортировка:  1.36152  секунд\n",
            "Встроенная ортировка:  0.00754  секунд\n"
          ]
        }
      ],
      "source": [
        "print('Сортировка выбором: ',round(sel_time,5),' секунд')\n",
        "\n",
        "print('Сортировка вставками: ',round(ins_time,5),' секунд')\n",
        "\n",
        "print('Сортировка обменом: ',round(swap_time,5),' секунд')\n",
        "\n",
        "print('Сортировка Шелла: ',round(shell_time,5),' секунд')\n",
        "\n",
        "print('Турнирная сортировка: ',round(tourn_time,5),' секунд')\n",
        "\n",
        "print('Пирамидальная сортировка: ',round(heap_time,5),' секунд')\n",
        "\n",
        "print('Быстрая сортировка: ',round(quick_time,5),' секунд')\n",
        "\n",
        "print('Встроенная ортировка: ',round(def_time,5),' секунд')"
      ]
    },
    {
      "cell_type": "markdown",
      "id": "e89221a9",
      "metadata": {
        "id": "e89221a9"
      },
      "source": [
        "## Вывод\n",
        "В ходе роботы были изучены различные види сортировок:<br>\n",
        "    - Сортировку выбором\n",
        "    - Сортировку вставками\n",
        "    - Cортировку обменом (пузырьком)\n",
        "    - Сортировку Шелла\n",
        "    - Турнирную сортировку\n",
        "    - Пирамидальную сортировку\n",
        "    - Быструю сортировку\n",
        " Была оценена эффективность использования данных сортировок, а также было произведено сравнение перечисленных сортировок со встроенными сортировками python."
      ]
    },
    {
      "cell_type": "code",
      "source": [],
      "metadata": {
        "id": "07-KLdmqDa6_"
      },
      "id": "07-KLdmqDa6_",
      "execution_count": null,
      "outputs": []
    }
  ],
  "metadata": {
    "kernelspec": {
      "display_name": "Python 3",
      "language": "python",
      "name": "python3"
    },
    "language_info": {
      "codemirror_mode": {
        "name": "ipython",
        "version": 3
      },
      "file_extension": ".py",
      "mimetype": "text/x-python",
      "name": "python",
      "nbconvert_exporter": "python",
      "pygments_lexer": "ipython3",
      "version": "3.8.8"
    },
    "colab": {
      "provenance": []
    }
  },
  "nbformat": 4,
  "nbformat_minor": 5
}